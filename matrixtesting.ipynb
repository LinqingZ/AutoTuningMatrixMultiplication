{
 "cells": [
  {
   "cell_type": "code",
   "execution_count": 39,
   "metadata": {},
   "outputs": [
    {
     "name": "stdout",
     "output_type": "stream",
     "text": [
      "C1\n",
      " [[19 22]\n",
      " [43 50]]\n",
      "C2\n",
      " [[19 22]\n",
      " [43 50]]\n",
      "C3\n",
      " [[ 5 12]\n",
      " [21 32]]\n",
      "C4\n",
      " [[19 22]\n",
      " [43 50]]\n"
     ]
    }
   ],
   "source": [
    "# np.dot, np.matmul, and np.multiply\n",
    "# np.dot returns the scalar or dot product of two arrays. \n",
    "# np.matmul returns the matrix product of two arrays\n",
    "# np.multiply returns the element-wise matrix multiplication of two arrays\n",
    "    # np.multiply will give out hadamard product as output\n",
    "# * operation: return hadamard product of array, matrix product of two matrix\n",
    "\n",
    "# There are three kinds of products: matmul product, hadamard product, and kronecker product in matrix multiplication\n",
    "import numpy as np\n",
    "\n",
    "# Create two matrices\n",
    "# A = np.array([[1, 2], [3, 4]])\n",
    "# B = np.array([[5, 6], [7, 8]])\n",
    "\n",
    "A = np.mat([[1, 2], [3, 4]])\n",
    "B = np.mat([[5, 6], [7, 8]])\n",
    "\n",
    "\n",
    "# A2 = np.mat(np.array([[1, 2], [3, 4]]))\n",
    "# B2 = np.mat(np.array([[5, 6], [7, 8]]))\n",
    "\n",
    "# Multiply the matrices\n",
    "C1 = np.dot(A, B)\n",
    "C2 = np.matmul(A, B)\n",
    "C3 = np.multiply(A, B)\n",
    "C4 = A*B\n",
    "# Print the product\n",
    "print(\"C1\\n\", C1)\n",
    "print(\"C2\\n\", C2)\n",
    "print(\"C3\\n\", C3)\n",
    "print(\"C4\\n\", C4)\n"
   ]
  },
  {
   "cell_type": "code",
   "execution_count": 9,
   "metadata": {},
   "outputs": [
    {
     "name": "stdout",
     "output_type": "stream",
     "text": [
      "[[4, 1], [3, 2]]\n"
     ]
    }
   ],
   "source": [
    "import random\n",
    "\n",
    "def generate_random_list():\n",
    "    values = [1, 2, 3, 4]\n",
    "    random.shuffle(values)\n",
    "    return [values[:2], values[2:]]\n",
    "\n",
    "print(generate_random_list())"
   ]
  },
  {
   "cell_type": "code",
   "execution_count": 19,
   "metadata": {},
   "outputs": [
    {
     "name": "stdout",
     "output_type": "stream",
     "text": [
      "[[ 6 54]\n",
      " [73  6]]\n",
      "[[38 70]\n",
      " [25 71]]\n",
      "[[1578 4254]\n",
      " [2924 5536]]\n"
     ]
    }
   ],
   "source": [
    "import numpy as np\n",
    "\n",
    "def generate_random_matrices(rows, columns):\n",
    "    matrix1 = np.random.randint(100, size=(rows, columns))\n",
    "    matrix2 = np.random.randint(100, size=(rows, columns))\n",
    "    return matrix1, matrix2\n",
    "matrix_A, matrix_B = generate_random_matrices(2, 2)\n",
    "print(matrix_A)\n",
    "print(matrix_B)\n",
    "print(np.dot(matrix_A, matrix_B))"
   ]
  },
  {
   "cell_type": "code",
   "execution_count": 20,
   "metadata": {},
   "outputs": [
    {
     "name": "stdout",
     "output_type": "stream",
     "text": [
      "[[1578 4254]\n",
      " [2924 5536]]\n"
     ]
    }
   ],
   "source": [
    "print(np.matmul(np.mat(matrix_A), np.mat(matrix_B)))"
   ]
  },
  {
   "cell_type": "code",
   "execution_count": 37,
   "metadata": {},
   "outputs": [
    {
     "name": "stdout",
     "output_type": "stream",
     "text": [
      "Algorithm 1 took 0.0 seconds\n",
      "Algorithm 2 took 0.0 seconds\n",
      "Algorithm 3 took 0.0 seconds\n"
     ]
    }
   ],
   "source": [
    "import time\n",
    "import numpy as np\n",
    "\n",
    "def generate_random_matrices(rows, columns):\n",
    "    matrix1 = np.random.randint(100, size=(rows, columns))\n",
    "    matrix2 = np.random.randint(100, size=(rows, columns))\n",
    "    return matrix1, matrix2\n",
    "matrix_A, matrix_B = generate_random_matrices(10, 10)\n",
    "\n",
    "def algorithm1(x, y):\n",
    "    return np.dot(x, y)\n",
    "\n",
    "def algorithm2(x, y):\n",
    "    return np.matmul(x, y)\n",
    "\n",
    "def algorithm3(x, y):\n",
    "    if isinstance(x, np.matrix) and isinstance(y, np.matrix):\n",
    "        return x*y\n",
    "    try:\n",
    "        x = np.mat(x)\n",
    "        y = np.mat(y)\n",
    "        return x*y\n",
    "    except Exception:\n",
    "        return None\n",
    "\n",
    "matrix = [[1, 2], [3, 4]]\n",
    "\n",
    "start_time = time.time()\n",
    "product1 = algorithm1(matrix_A, matrix_B)\n",
    "end_time = time.time()\n",
    "print(f\"Algorithm 1 took {end_time - start_time} seconds\")\n",
    "\n",
    "start_time = time.time()\n",
    "product2=algorithm2(matrix_A, matrix_B)\n",
    "end_time = time.time()\n",
    "print(f\"Algorithm 2 took {end_time - start_time} seconds\")\n",
    "\n",
    "\n",
    "start_time = time.time()\n",
    "product3=algorithm3(matrix_A, matrix_B)\n",
    "end_time = time.time()\n",
    "print(f\"Algorithm 3 took {end_time - start_time} seconds\")\n",
    "\n",
    "\n",
    "# print(product1)\n",
    "# print(product2)\n",
    "# print(product3)\n",
    "np.savetxt('product1.txt', product1)\n",
    "np.savetxt('product2.txt', product2)\n",
    "np.savetxt('product3.txt', product3)"
   ]
  },
  {
   "cell_type": "code",
   "execution_count": null,
   "metadata": {},
   "outputs": [],
   "source": [
    "import unittest\n",
    "import numpy as np\n",
    "\n",
    "class TestMatrices(unittest.TestCase):\n",
    "    def test_matrices_equal(self):\n",
    "        matrix1 = np.loadtxt('product1.txt')\n",
    "        matrix2 = np.loadtxt('product2.txt')\n",
    "        np.testing.assert_array_equal(matrix1, matrix2)\n",
    "\n",
    "if __name__ == '__main__':\n",
    "    unittest.main()"
   ]
  },
  {
   "cell_type": "code",
   "execution_count": 2,
   "metadata": {},
   "outputs": [
    {
     "name": "stdout",
     "output_type": "stream",
     "text": [
      "Optimal step: 1\n"
     ]
    }
   ],
   "source": [
    "import time\n",
    "import random\n",
    "\n",
    "def find_minimum(numbers, step):\n",
    "    minimum = float(\"inf\")\n",
    "    for i in range(0, len(numbers), step):\n",
    "        if numbers[i] < minimum:\n",
    "            minimum = numbers[i]\n",
    "    return minimum\n",
    "\n",
    "numbers = [random.randint(0, 1000) for _ in range(1000)]\n",
    "\n",
    "step = 1\n",
    "runtimes = []\n",
    "\n",
    "for _ in range(10):\n",
    "    start_time = time.time()\n",
    "    find_minimum(numbers, step)\n",
    "    runtime = time.time() - start_time\n",
    "    runtimes.append(runtime)\n",
    "\n",
    "    if len(runtimes) >= 2 and runtimes[-1] > runtimes[-2]:\n",
    "        step += 1\n",
    "\n",
    "print(\"Optimal step:\", step)"
   ]
  },
  {
   "cell_type": "code",
   "execution_count": null,
   "metadata": {},
   "outputs": [],
   "source": [
    "import time\n",
    "import timeit\n",
    "import numpy as np\n",
    "\n",
    "def generate_random_matrices(rows, columns):\n",
    "    matrix1 = np.random.randint(100, size=(rows, columns))\n",
    "    matrix2 = np.random.randint(100, size=(rows, columns))\n",
    "    return matrix1, matrix2\n",
    "matrix_A, matrix_B = generate_random_matrices(10, 10)\n",
    "\n",
    "def algorithm1(x, y):\n",
    "    return np.dot(x, y)\n",
    "\n",
    "def algorithm2(x, y):\n",
    "    return np.matmul(x, y)\n",
    "\n",
    "def algorithm3(x, y):\n",
    "    if isinstance(x, np.matrix) and isinstance(y, np.matrix):\n",
    "        return x*y\n",
    "    try:\n",
    "        x = np.mat(x)\n",
    "        y = np.mat(y)\n",
    "        return x*y\n",
    "    except Exception:\n",
    "        return None\n",
    "\n",
    "# check time \n",
    "start_time = time.time()\n",
    "product1 = algorithm1(matrix_A, matrix_B)\n",
    "end_time = time.time()\n",
    "print(f\"Algorithm 1 took {end_time - start_time} seconds\")\n",
    "\n",
    "start_time = time.time()\n",
    "product2=algorithm2(matrix_A, matrix_B)\n",
    "end_time = time.time()\n",
    "print(f\"Algorithm 2 took {end_time - start_time} seconds\")\n",
    "\n",
    "\n",
    "start_time = time.time()\n",
    "product3=algorithm3(matrix_A, matrix_B)\n",
    "end_time = time.time()\n",
    "print(f\"Algorithm 3 took {end_time - start_time} seconds\")\n",
    "\n",
    "\n",
    "print(timeit.timeit(lambda:algorithm1(matrix_A, matrix_B), number=10000))\n",
    "print(timeit.timeit(lambda:algorithm2(matrix_A, matrix_B), number=10000))\n",
    "print(timeit.timeit(lambda:algorithm3(matrix_A, matrix_B), number=10000))\n",
    "# print(product1)\n",
    "# print(product2)\n",
    "# print(product3)\n",
    "# np.savetxt('product1.txt', product1)\n",
    "# np.savetxt('product2.txt', product2)\n",
    "# np.savetxt('product3.txt', product3)"
   ]
  },
  {
   "cell_type": "code",
   "execution_count": 3,
   "metadata": {},
   "outputs": [
    {
     "name": "stdout",
     "output_type": "stream",
     "text": [
      "Add time: 0.0\n",
      "Multiply time: 0.0\n"
     ]
    }
   ],
   "source": [
    "import time\n",
    "\n",
    "def time_function(func, *args):\n",
    "    start_time = time.time()\n",
    "    func(*args)\n",
    "    return time.time() - start_time\n",
    "\n",
    "def add(a, b):\n",
    "    return a + b\n",
    "\n",
    "def multiply(a, b):\n",
    "    return a * b\n",
    "\n",
    "add_time = time_function(add, 1, 2)\n",
    "multiply_time = time_function(multiply, 3, 4)\n",
    "\n",
    "print(\"Add time:\", add_time)\n",
    "print(\"Multiply time:\", multiply_time)"
   ]
  },
  {
   "cell_type": "code",
   "execution_count": null,
   "metadata": {},
   "outputs": [],
   "source": [
    "import itertools\n",
    "def multiply_matrices_stride(A, B, stride):\n",
    "    result = [[0 for _ in range(len(B[0]))] for _ in range(len(A))]\n",
    "    for i, j in itertools.product(range(0, len(A), stride), range(0, len(B[0]), stride)):\n",
    "        for k, ii in itertools.product(range(0, len(B), stride), range(i, min(i + stride, len(A)))):\n",
    "            for jj, kk in itertools.product(range(j, min(j + stride, len(B[0]))), range(k, min(k + stride, len(B)))):\n",
    "                result[ii][jj] += A[ii][kk] * B[kk][jj]\n",
    "    return result\n",
    "\n",
    "A = [[1, 2], [3, 4]]\n",
    "B = [[5, 6], [7, 8]]\n",
    "\n",
    "result = multiply_matrices_stride(A, B, 1)\n",
    "print(result)"
   ]
  },
  {
   "cell_type": "code",
   "execution_count": null,
   "metadata": {},
   "outputs": [],
   "source": [
    "import itertools\n",
    "def multiply_matrices_stride(A, B, stride):\n",
    "    result = [[0 for _ in range(len(B[0]))] for _ in range(len(A))]\n",
    "    for i, j in itertools.product(range(0, len(A), stride), range(0, len(B[0]), stride)):\n",
    "        for k, ii in itertools.product(range(0, len(B), stride), range(i, min(i + stride, len(A)))):\n",
    "            for jj, kk in itertools.product(range(j, min(j + stride, len(B[0]))), range(k, min(k + stride, len(B)))):\n",
    "                result[ii][jj] += A[ii][kk] * B[kk][jj]\n",
    "    return result\n",
    "\n",
    "A = [[1, 2], [3, 4]]\n",
    "B = [[5, 6], [7, 8]]\n",
    "\n",
    "result = multiply_matrices_stride(A, B, 1)\n",
    "print(result)"
   ]
  },
  {
   "cell_type": "code",
   "execution_count": 4,
   "metadata": {},
   "outputs": [
    {
     "name": "stdout",
     "output_type": "stream",
     "text": [
      "[[19, 22], [43, 50]]\n"
     ]
    }
   ],
   "source": [
    "def multiply_matrices_stride(A, B, stride):\n",
    "    result = [[0 for j in range(len(B[0]))] for i in range(len(A))]\n",
    "    for i in range(0, len(A), stride):\n",
    "        for j in range(0, len(B[0]), stride):\n",
    "            for k in range(0, len(B), stride):\n",
    "                for ii in range(i, min(i + stride, len(A))):\n",
    "                    for jj in range(j, min(j + stride, len(B[0]))):\n",
    "                        for kk in range(k, min(k + stride, len(B))):\n",
    "                            result[ii][jj] += A[ii][kk] * B[kk][jj]\n",
    "    return result\n",
    "\n",
    "A = [[1, 2], [3, 4]]\n",
    "B = [[5, 6], [7, 8]]\n",
    "\n",
    "result = multiply_matrices_stride(A, B, 1)\n",
    "print(result)"
   ]
  },
  {
   "cell_type": "code",
   "execution_count": 5,
   "metadata": {},
   "outputs": [
    {
     "name": "stdout",
     "output_type": "stream",
     "text": [
      "Stride 1: 1.5579826831817627 seconds\n",
      "Stride 2: 0.7737984657287598 seconds\n",
      "Stride 4: 0.585547924041748 seconds\n",
      "Stride 8: 0.5074095726013184 seconds\n"
     ]
    }
   ],
   "source": [
    "import time\n",
    "import numpy as np\n",
    "\n",
    "def multiply_matrices_stride(A, B, stride):\n",
    "    result = [[0 for j in range(len(B[0]))] for i in range(len(A))]\n",
    "    for i in range(0, len(A), stride):\n",
    "        for j in range(0, len(B[0]), stride):\n",
    "            for k in range(0, len(B), stride):\n",
    "                for ii in range(i, min(i + stride, len(A))):\n",
    "                    for jj in range(j, min(j + stride, len(B[0]))):\n",
    "                        for kk in range(k, min(k + stride, len(B))):\n",
    "                            result[ii][jj] += A[ii][kk] * B[kk][jj]\n",
    "    return result\n",
    "\n",
    "A = np.random.rand(100, 100)\n",
    "B = np.random.rand(100, 100)\n",
    "\n",
    "for stride in [1, 2, 4, 8]:\n",
    "    start_time = time.time()\n",
    "    multiply_matrices_stride(A, B, stride)\n",
    "    print(\"Stride %d: %s seconds\" % (stride, time.time() - start_time))"
   ]
  }
 ],
 "metadata": {
  "kernelspec": {
   "display_name": "Python 3",
   "language": "python",
   "name": "python3"
  },
  "language_info": {
   "codemirror_mode": {
    "name": "ipython",
    "version": 3
   },
   "file_extension": ".py",
   "mimetype": "text/x-python",
   "name": "python",
   "nbconvert_exporter": "python",
   "pygments_lexer": "ipython3",
   "version": "3.11.3"
  },
  "orig_nbformat": 4
 },
 "nbformat": 4,
 "nbformat_minor": 2
}
